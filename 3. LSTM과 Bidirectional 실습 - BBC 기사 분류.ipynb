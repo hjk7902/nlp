{
 "cells": [
  {
   "cell_type": "code",
   "execution_count": 1,
   "id": "f7cae7a7-5a94-44ab-ab48-6466e3ec442d",
   "metadata": {},
   "outputs": [],
   "source": [
    "from tensorflow.keras import Sequential, layers"
   ]
  },
  {
   "cell_type": "code",
   "execution_count": 2,
   "id": "663f2a22-c431-41ab-81b8-567b723607a7",
   "metadata": {},
   "outputs": [
    {
     "data": {
      "text/html": [
       "<pre style=\"white-space:pre;overflow-x:auto;line-height:normal;font-family:Menlo,'DejaVu Sans Mono',consolas,'Courier New',monospace\"><span style=\"font-weight: bold\">Model: \"sequential\"</span>\n",
       "</pre>\n"
      ],
      "text/plain": [
       "\u001b[1mModel: \"sequential\"\u001b[0m\n"
      ]
     },
     "metadata": {},
     "output_type": "display_data"
    },
    {
     "data": {
      "text/html": [
       "<pre style=\"white-space:pre;overflow-x:auto;line-height:normal;font-family:Menlo,'DejaVu Sans Mono',consolas,'Courier New',monospace\">┏━━━━━━━━━━━━━━━━━━━━━━━━━━━━━━━━━━━━━━┳━━━━━━━━━━━━━━━━━━━━━━━━━━━━━┳━━━━━━━━━━━━━━━━━┓\n",
       "┃<span style=\"font-weight: bold\"> Layer (type)                         </span>┃<span style=\"font-weight: bold\"> Output Shape                </span>┃<span style=\"font-weight: bold\">         Param # </span>┃\n",
       "┡━━━━━━━━━━━━━━━━━━━━━━━━━━━━━━━━━━━━━━╇━━━━━━━━━━━━━━━━━━━━━━━━━━━━━╇━━━━━━━━━━━━━━━━━┩\n",
       "│ embedding (<span style=\"color: #0087ff; text-decoration-color: #0087ff\">Embedding</span>)                │ (<span style=\"color: #00d7ff; text-decoration-color: #00d7ff\">None</span>, <span style=\"color: #00af00; text-decoration-color: #00af00\">200</span>, <span style=\"color: #00af00; text-decoration-color: #00af00\">64</span>)             │         <span style=\"color: #00af00; text-decoration-color: #00af00\">320,000</span> │\n",
       "├──────────────────────────────────────┼─────────────────────────────┼─────────────────┤\n",
       "│ dropout (<span style=\"color: #0087ff; text-decoration-color: #0087ff\">Dropout</span>)                    │ (<span style=\"color: #00d7ff; text-decoration-color: #00d7ff\">None</span>, <span style=\"color: #00af00; text-decoration-color: #00af00\">200</span>, <span style=\"color: #00af00; text-decoration-color: #00af00\">64</span>)             │               <span style=\"color: #00af00; text-decoration-color: #00af00\">0</span> │\n",
       "├──────────────────────────────────────┼─────────────────────────────┼─────────────────┤\n",
       "│ bidirectional (<span style=\"color: #0087ff; text-decoration-color: #0087ff\">Bidirectional</span>)        │ (<span style=\"color: #00d7ff; text-decoration-color: #00d7ff\">None</span>, <span style=\"color: #00af00; text-decoration-color: #00af00\">200</span>)                 │         <span style=\"color: #00af00; text-decoration-color: #00af00\">132,000</span> │\n",
       "├──────────────────────────────────────┼─────────────────────────────┼─────────────────┤\n",
       "│ dense (<span style=\"color: #0087ff; text-decoration-color: #0087ff\">Dense</span>)                        │ (<span style=\"color: #00d7ff; text-decoration-color: #00d7ff\">None</span>, <span style=\"color: #00af00; text-decoration-color: #00af00\">6</span>)                   │           <span style=\"color: #00af00; text-decoration-color: #00af00\">1,206</span> │\n",
       "└──────────────────────────────────────┴─────────────────────────────┴─────────────────┘\n",
       "</pre>\n"
      ],
      "text/plain": [
       "┏━━━━━━━━━━━━━━━━━━━━━━━━━━━━━━━━━━━━━━┳━━━━━━━━━━━━━━━━━━━━━━━━━━━━━┳━━━━━━━━━━━━━━━━━┓\n",
       "┃\u001b[1m \u001b[0m\u001b[1mLayer (type)                        \u001b[0m\u001b[1m \u001b[0m┃\u001b[1m \u001b[0m\u001b[1mOutput Shape               \u001b[0m\u001b[1m \u001b[0m┃\u001b[1m \u001b[0m\u001b[1m        Param #\u001b[0m\u001b[1m \u001b[0m┃\n",
       "┡━━━━━━━━━━━━━━━━━━━━━━━━━━━━━━━━━━━━━━╇━━━━━━━━━━━━━━━━━━━━━━━━━━━━━╇━━━━━━━━━━━━━━━━━┩\n",
       "│ embedding (\u001b[38;5;33mEmbedding\u001b[0m)                │ (\u001b[38;5;45mNone\u001b[0m, \u001b[38;5;34m200\u001b[0m, \u001b[38;5;34m64\u001b[0m)             │         \u001b[38;5;34m320,000\u001b[0m │\n",
       "├──────────────────────────────────────┼─────────────────────────────┼─────────────────┤\n",
       "│ dropout (\u001b[38;5;33mDropout\u001b[0m)                    │ (\u001b[38;5;45mNone\u001b[0m, \u001b[38;5;34m200\u001b[0m, \u001b[38;5;34m64\u001b[0m)             │               \u001b[38;5;34m0\u001b[0m │\n",
       "├──────────────────────────────────────┼─────────────────────────────┼─────────────────┤\n",
       "│ bidirectional (\u001b[38;5;33mBidirectional\u001b[0m)        │ (\u001b[38;5;45mNone\u001b[0m, \u001b[38;5;34m200\u001b[0m)                 │         \u001b[38;5;34m132,000\u001b[0m │\n",
       "├──────────────────────────────────────┼─────────────────────────────┼─────────────────┤\n",
       "│ dense (\u001b[38;5;33mDense\u001b[0m)                        │ (\u001b[38;5;45mNone\u001b[0m, \u001b[38;5;34m6\u001b[0m)                   │           \u001b[38;5;34m1,206\u001b[0m │\n",
       "└──────────────────────────────────────┴─────────────────────────────┴─────────────────┘\n"
      ]
     },
     "metadata": {},
     "output_type": "display_data"
    },
    {
     "data": {
      "text/html": [
       "<pre style=\"white-space:pre;overflow-x:auto;line-height:normal;font-family:Menlo,'DejaVu Sans Mono',consolas,'Courier New',monospace\"><span style=\"font-weight: bold\"> Total params: </span><span style=\"color: #00af00; text-decoration-color: #00af00\">453,206</span> (1.73 MB)\n",
       "</pre>\n"
      ],
      "text/plain": [
       "\u001b[1m Total params: \u001b[0m\u001b[38;5;34m453,206\u001b[0m (1.73 MB)\n"
      ]
     },
     "metadata": {},
     "output_type": "display_data"
    },
    {
     "data": {
      "text/html": [
       "<pre style=\"white-space:pre;overflow-x:auto;line-height:normal;font-family:Menlo,'DejaVu Sans Mono',consolas,'Courier New',monospace\"><span style=\"font-weight: bold\"> Trainable params: </span><span style=\"color: #00af00; text-decoration-color: #00af00\">453,206</span> (1.73 MB)\n",
       "</pre>\n"
      ],
      "text/plain": [
       "\u001b[1m Trainable params: \u001b[0m\u001b[38;5;34m453,206\u001b[0m (1.73 MB)\n"
      ]
     },
     "metadata": {},
     "output_type": "display_data"
    },
    {
     "data": {
      "text/html": [
       "<pre style=\"white-space:pre;overflow-x:auto;line-height:normal;font-family:Menlo,'DejaVu Sans Mono',consolas,'Courier New',monospace\"><span style=\"font-weight: bold\"> Non-trainable params: </span><span style=\"color: #00af00; text-decoration-color: #00af00\">0</span> (0.00 B)\n",
       "</pre>\n"
      ],
      "text/plain": [
       "\u001b[1m Non-trainable params: \u001b[0m\u001b[38;5;34m0\u001b[0m (0.00 B)\n"
      ]
     },
     "metadata": {},
     "output_type": "display_data"
    }
   ],
   "source": [
    "model = Sequential()\n",
    "\n",
    "model.add(Input(shape=(200,))) # 입력하는 단어의 개수를 200개로 제한\n",
    "model.add(Embedding(input_dim=5000, output_dim=64))\n",
    "model.add(Dropout(0.5))\n",
    "\n",
    "model.add(Bidirectional(LSTM(100)))\n",
    "model.add(Dense(6, activation='softmax'))\n",
    "\n",
    "model.summary()"
   ]
  },
  {
   "cell_type": "code",
   "execution_count": 3,
   "id": "88c3dfd5-2668-4f12-a201-8ba7cab5ca6e",
   "metadata": {},
   "outputs": [
    {
     "name": "stderr",
     "output_type": "stream",
     "text": [
      "[nltk_data] Downloading package stopwords to\n",
      "[nltk_data]     C:\\Users\\KOSA\\AppData\\Roaming\\nltk_data...\n",
      "[nltk_data]   Package stopwords is already up-to-date!\n"
     ]
    }
   ],
   "source": [
    "import nltk\n",
    "nltk.download('stopwords')\n",
    "stopwords = set(nltk.corpus.stopwords.words('english'))"
   ]
  },
  {
   "cell_type": "code",
   "execution_count": 4,
   "id": "feaa1010-204f-4c4b-8b05-a300d876feee",
   "metadata": {},
   "outputs": [
    {
     "name": "stdout",
     "output_type": "stream",
     "text": [
      "{'who', 'under', \"needn't\", \"wouldn't\", 'doing', 'o', 'any', 'weren', \"isn't\", 'will', 'don', \"hadn't\", 'because', 'down', 'should', 'mightn', 'themselves', \"shan't\", 'were', 'in', 'no', \"you're\", 're', 'shouldn', 'those', 'has', 'up', 'being', 'off', 'very', 'again', 'such', 'd', \"shouldn't\", 't', 'wasn', 'at', 'both', 'yourselves', 'on', 'hasn', 'then', 'shan', \"couldn't\", 'than', 'or', 'into', 'same', 'their', 'wouldn', 'ourselves', 'how', 'now', 'most', 'below', 'this', \"didn't\", 'few', 'so', 'ours', 'isn', 'own', 'where', 'to', 'for', 'between', 'its', \"you'd\", 'there', 'nor', 'you', 've', 'when', 's', 'have', 'some', 'himself', 'against', 'needn', \"mightn't\", 'is', 'herself', 'while', \"don't\", \"you'll\", 'm', 'they', 'i', 'and', \"aren't\", \"that'll\", 'during', 'having', 'aren', 'itself', 'hadn', 'your', \"wasn't\", 'until', 'him', 'his', 'further', 'do', \"won't\", 'yourself', 'here', \"weren't\", 'ain', 'other', 'he', 'which', 'just', 'each', 'theirs', 'what', \"should've\", 'if', 'yours', 'been', 'all', 'out', 'before', 'her', 'my', 'we', 'an', 'does', 'll', \"she's\", 'did', 'more', \"you've\", 'y', 'she', 'them', 'had', 'can', 'it', 'with', 'about', \"doesn't\", 'by', 'myself', 'over', 'our', 'above', 'but', 'ma', 'me', 'was', 'of', 'hers', \"hasn't\", 'why', 'couldn', 'these', 'mustn', 'only', 'haven', 'whom', \"it's\", 'after', 'too', 'won', \"haven't\", \"mustn't\", 'from', 'a', 'as', 'through', 'didn', 'that', 'am', 'doesn', 'not', 'are', 'the', 'be', 'once'}\n"
     ]
    }
   ],
   "source": [
    "print(stopwords)"
   ]
  },
  {
   "cell_type": "code",
   "execution_count": 5,
   "id": "eb9858ac-1c38-492a-abe6-bd9bc32b4d79",
   "metadata": {},
   "outputs": [],
   "source": [
    "import csv\n",
    "\n",
    "original = [] # 기사 원본 저장\n",
    "processed = [] # 전처리된 기사 저장\n",
    "labels = [] # 기사 카테고리\n",
    "\n",
    "with open('bbc-text.csv', 'r') as file:\n",
    "    reader = csv.reader(file)\n",
    "    next(reader) # 첫 번째 행은 메타정보를 가지고 있으므로 건너뜀\n",
    "    for row in reader:\n",
    "        labels.append(row[0])\n",
    "        original.append(row[1])\n",
    "\n",
    "        news = row[1]\n",
    "        for word in stopwords:\n",
    "            token = ' ' + word + ' ' # 단어단위로 불용어를 제거해야 하므로...\n",
    "            news = news.replace(token, ' ')\n",
    "        processed.append(news)"
   ]
  },
  {
   "cell_type": "code",
   "execution_count": 6,
   "id": "50e1371e-5d84-47e5-9a44-67a289553916",
   "metadata": {},
   "outputs": [],
   "source": [
    "# print(labels[0], processed[0])"
   ]
  },
  {
   "cell_type": "code",
   "execution_count": 7,
   "id": "fd10c717-bdea-4688-8c55-990883f347de",
   "metadata": {},
   "outputs": [],
   "source": [
    "from tensorflow.keras.preprocessing.text import Tokenizer\n",
    "A_token = Tokenizer(num_words=5000, oov_token='OOV') # 단어사전에 없는 토큰들은 OOV로 표시\n",
    "A_token.fit_on_texts(processed)\n",
    "A_tokenized = A_token.texts_to_sequences(processed)"
   ]
  },
  {
   "cell_type": "code",
   "execution_count": 8,
   "id": "a0f66b34-285e-4857-8b9b-1914ed7d507c",
   "metadata": {},
   "outputs": [],
   "source": [
    "# print(A_tokenized[0])"
   ]
  },
  {
   "cell_type": "code",
   "execution_count": 9,
   "id": "fbe0b0ad-d267-406b-86e4-f79d133a7fc8",
   "metadata": {},
   "outputs": [
    {
     "data": {
      "text/plain": [
       "numpy.ndarray"
      ]
     },
     "execution_count": 9,
     "metadata": {},
     "output_type": "execute_result"
    }
   ],
   "source": [
    "from tensorflow.keras.preprocessing.sequence import pad_sequences\n",
    "A_tokenized_seq = pad_sequences(A_tokenized, maxlen=200, padding='post', truncating='post')\n",
    "type(A_tokenized_seq)"
   ]
  },
  {
   "cell_type": "code",
   "execution_count": 10,
   "id": "0d1ff6d6-3aa1-4fe2-ab0b-bf35269e34c6",
   "metadata": {},
   "outputs": [
    {
     "name": "stdout",
     "output_type": "stream",
     "text": [
      "<class 'list'>\n",
      "(2225,)\n"
     ]
    }
   ],
   "source": [
    "import numpy as np\n",
    "\n",
    "C_token = Tokenizer()\n",
    "C_token.fit_on_texts(labels)\n",
    "C_tokenized = C_token.texts_to_sequences(labels)\n",
    "print(type(C_tokenized))\n",
    "C_tokenized = np.array(C_tokenized).reshape(-1)\n",
    "print(C_tokenized.shape)"
   ]
  },
  {
   "cell_type": "code",
   "execution_count": 11,
   "id": "ca3df2d2-c1ab-4d33-b02c-17ecc59e246c",
   "metadata": {},
   "outputs": [
    {
     "name": "stdout",
     "output_type": "stream",
     "text": [
      "{1: 'sport', 2: 'business', 3: 'politics', 4: 'tech', 5: 'entertainment'}\n"
     ]
    }
   ],
   "source": [
    "idx_to_label = {}\n",
    "for label, index in C_token.word_index.items():\n",
    "    idx_to_label[index] = label\n",
    "print(idx_to_label) # 라벨의 인덱스가 1부터 시작하므로 뉴런의 수를 6개로"
   ]
  },
  {
   "cell_type": "code",
   "execution_count": 12,
   "id": "cd57c570-9540-4f6a-921b-2bfc7b64a3c9",
   "metadata": {},
   "outputs": [],
   "source": [
    "from sklearn.model_selection import train_test_split\n",
    "X_train, X_test, y_train, y_test = train_test_split(A_tokenized_seq, C_tokenized)"
   ]
  },
  {
   "cell_type": "code",
   "execution_count": 13,
   "id": "667af500-932d-4fe8-af98-1863b495b254",
   "metadata": {},
   "outputs": [],
   "source": [
    "model.compile(loss='sparse_categorical_crossentropy', optimizer='adam', metrics=['accuracy'])"
   ]
  },
  {
   "cell_type": "code",
   "execution_count": 14,
   "id": "6d997d7b-5e9b-4d63-b4e4-afd93c1ae52b",
   "metadata": {},
   "outputs": [
    {
     "name": "stdout",
     "output_type": "stream",
     "text": [
      "Epoch 1/20\n",
      "\u001b[1m84/84\u001b[0m \u001b[32m━━━━━━━━━━━━━━━━━━━━\u001b[0m\u001b[37m\u001b[0m \u001b[1m9s\u001b[0m 66ms/step - accuracy: 0.2643 - loss: 1.6288\n",
      "Epoch 2/20\n",
      "\u001b[1m84/84\u001b[0m \u001b[32m━━━━━━━━━━━━━━━━━━━━\u001b[0m\u001b[37m\u001b[0m \u001b[1m6s\u001b[0m 67ms/step - accuracy: 0.5687 - loss: 1.0923\n",
      "Epoch 3/20\n",
      "\u001b[1m84/84\u001b[0m \u001b[32m━━━━━━━━━━━━━━━━━━━━\u001b[0m\u001b[37m\u001b[0m \u001b[1m6s\u001b[0m 67ms/step - accuracy: 0.8530 - loss: 0.5310\n",
      "Epoch 4/20\n",
      "\u001b[1m84/84\u001b[0m \u001b[32m━━━━━━━━━━━━━━━━━━━━\u001b[0m\u001b[37m\u001b[0m \u001b[1m6s\u001b[0m 69ms/step - accuracy: 0.9380 - loss: 0.1821\n",
      "Epoch 5/20\n",
      "\u001b[1m84/84\u001b[0m \u001b[32m━━━━━━━━━━━━━━━━━━━━\u001b[0m\u001b[37m\u001b[0m \u001b[1m6s\u001b[0m 68ms/step - accuracy: 0.9850 - loss: 0.0700\n",
      "Epoch 6/20\n",
      "\u001b[1m84/84\u001b[0m \u001b[32m━━━━━━━━━━━━━━━━━━━━\u001b[0m\u001b[37m\u001b[0m \u001b[1m6s\u001b[0m 69ms/step - accuracy: 0.9818 - loss: 0.0521\n",
      "Epoch 7/20\n",
      "\u001b[1m84/84\u001b[0m \u001b[32m━━━━━━━━━━━━━━━━━━━━\u001b[0m\u001b[37m\u001b[0m \u001b[1m6s\u001b[0m 69ms/step - accuracy: 0.9976 - loss: 0.0296\n",
      "Epoch 8/20\n",
      "\u001b[1m84/84\u001b[0m \u001b[32m━━━━━━━━━━━━━━━━━━━━\u001b[0m\u001b[37m\u001b[0m \u001b[1m6s\u001b[0m 69ms/step - accuracy: 0.9997 - loss: 0.0084\n",
      "Epoch 9/20\n",
      "\u001b[1m84/84\u001b[0m \u001b[32m━━━━━━━━━━━━━━━━━━━━\u001b[0m\u001b[37m\u001b[0m \u001b[1m6s\u001b[0m 69ms/step - accuracy: 0.9991 - loss: 0.0072\n",
      "Epoch 10/20\n",
      "\u001b[1m84/84\u001b[0m \u001b[32m━━━━━━━━━━━━━━━━━━━━\u001b[0m\u001b[37m\u001b[0m \u001b[1m6s\u001b[0m 70ms/step - accuracy: 0.9976 - loss: 0.0082\n",
      "Epoch 11/20\n",
      "\u001b[1m84/84\u001b[0m \u001b[32m━━━━━━━━━━━━━━━━━━━━\u001b[0m\u001b[37m\u001b[0m \u001b[1m6s\u001b[0m 69ms/step - accuracy: 0.9999 - loss: 0.0022\n",
      "Epoch 12/20\n",
      "\u001b[1m84/84\u001b[0m \u001b[32m━━━━━━━━━━━━━━━━━━━━\u001b[0m\u001b[37m\u001b[0m \u001b[1m6s\u001b[0m 69ms/step - accuracy: 1.0000 - loss: 0.0035\n",
      "Epoch 13/20\n",
      "\u001b[1m84/84\u001b[0m \u001b[32m━━━━━━━━━━━━━━━━━━━━\u001b[0m\u001b[37m\u001b[0m \u001b[1m6s\u001b[0m 69ms/step - accuracy: 1.0000 - loss: 0.0016\n",
      "Epoch 14/20\n",
      "\u001b[1m84/84\u001b[0m \u001b[32m━━━━━━━━━━━━━━━━━━━━\u001b[0m\u001b[37m\u001b[0m \u001b[1m6s\u001b[0m 72ms/step - accuracy: 1.0000 - loss: 0.0013\n",
      "Epoch 15/20\n",
      "\u001b[1m84/84\u001b[0m \u001b[32m━━━━━━━━━━━━━━━━━━━━\u001b[0m\u001b[37m\u001b[0m \u001b[1m6s\u001b[0m 76ms/step - accuracy: 1.0000 - loss: 9.1288e-04\n",
      "Epoch 16/20\n",
      "\u001b[1m84/84\u001b[0m \u001b[32m━━━━━━━━━━━━━━━━━━━━\u001b[0m\u001b[37m\u001b[0m \u001b[1m6s\u001b[0m 76ms/step - accuracy: 0.9998 - loss: 0.0018\n",
      "Epoch 17/20\n",
      "\u001b[1m84/84\u001b[0m \u001b[32m━━━━━━━━━━━━━━━━━━━━\u001b[0m\u001b[37m\u001b[0m \u001b[1m6s\u001b[0m 74ms/step - accuracy: 0.9902 - loss: 0.0392\n",
      "Epoch 18/20\n",
      "\u001b[1m84/84\u001b[0m \u001b[32m━━━━━━━━━━━━━━━━━━━━\u001b[0m\u001b[37m\u001b[0m \u001b[1m7s\u001b[0m 78ms/step - accuracy: 0.9999 - loss: 0.0020\n",
      "Epoch 19/20\n",
      "\u001b[1m84/84\u001b[0m \u001b[32m━━━━━━━━━━━━━━━━━━━━\u001b[0m\u001b[37m\u001b[0m \u001b[1m6s\u001b[0m 69ms/step - accuracy: 1.0000 - loss: 0.0049\n",
      "Epoch 20/20\n",
      "\u001b[1m84/84\u001b[0m \u001b[32m━━━━━━━━━━━━━━━━━━━━\u001b[0m\u001b[37m\u001b[0m \u001b[1m6s\u001b[0m 68ms/step - accuracy: 1.0000 - loss: 0.0010\n"
     ]
    },
    {
     "data": {
      "text/plain": [
       "<keras.src.callbacks.history.History at 0x1e757751890>"
      ]
     },
     "execution_count": 14,
     "metadata": {},
     "output_type": "execute_result"
    }
   ],
   "source": [
    "model.fit(X_train, y_train, epochs=20, batch_size=20)"
   ]
  },
  {
   "cell_type": "code",
   "execution_count": 15,
   "id": "230e9f7e-4666-46f8-82d2-6f5c3e904ae1",
   "metadata": {},
   "outputs": [
    {
     "name": "stdout",
     "output_type": "stream",
     "text": [
      "\u001b[1m18/18\u001b[0m \u001b[32m━━━━━━━━━━━━━━━━━━━━\u001b[0m\u001b[37m\u001b[0m \u001b[1m1s\u001b[0m 24ms/step - accuracy: 0.9577 - loss: 0.2081\n"
     ]
    },
    {
     "data": {
      "text/plain": [
       "[0.16935625672340393, 0.9658886790275574]"
      ]
     },
     "execution_count": 15,
     "metadata": {},
     "output_type": "execute_result"
    }
   ],
   "source": [
    "model.evaluate(X_test, y_test)"
   ]
  },
  {
   "cell_type": "code",
   "execution_count": 16,
   "id": "56fb3848-8329-41a7-8542-c1fe4c671fb3",
   "metadata": {},
   "outputs": [],
   "source": [
    "news = ['''\n",
    "Fast bowler Josh Hazlewood has admitted that it is in Australia's \"best interest\" for England to be eliminated in the T20 World Cup group stage.\n",
    "\n",
    "Australia qualified for the Super 8s with a comprehensive nine-wicket win over Namibia, leaving England and Scotland to battle it out for second place.\n",
    "\n",
    "Jos Buttler's side need to beat Oman and Namibia to have any chance of progressing but, even if they do, net run-rate could determine who goes through.\n",
    "\n",
    "That would give Australia, who face Scotland on Sunday, a potentially key role in determining who else will advance from Group B.\n",
    "\n",
    "\n",
    "A Scotland win would send them through and eliminate England but, with Richie Berrington's team currently boasting a vastly superior net run-rate to England, even a narrow Australia victory could be enough to knock out the defending champions.\n",
    "\n",
    "Asked if Australia would try to make things as difficult as possible for England, Hazlewood said: \"Yeah, I think so.\n",
    "\n",
    "\"In this tournament you potentially come up against England at some stage again and they're probably one of the top few teams on their day.\n",
    "\n",
    "\"We've had some real struggles against them in T20 cricket so if we can get them out of the tournament that's in our best interest, as well as probably everyone else's.\"\n",
    "''']"
   ]
  },
  {
   "cell_type": "code",
   "execution_count": 17,
   "id": "8be4a9ba-dbde-466f-b104-5e0e367ea037",
   "metadata": {},
   "outputs": [],
   "source": [
    "import re\n",
    "news[0] = re.sub(r'[^\\w\\s]', '', news[0]) # 구둣점 제거\n",
    "for word in stopwords:\n",
    "    token = ' ' + word + ' '\n",
    "    news[0] = news[0].replace(token, ' ')\n",
    "# print(news[0])"
   ]
  },
  {
   "cell_type": "code",
   "execution_count": 18,
   "id": "c9000845-d195-4d0e-9aee-5d8010d90c44",
   "metadata": {},
   "outputs": [],
   "source": [
    "news_seq = A_token.texts_to_sequences(news)\n",
    "news_padded = pad_sequences(news_seq, maxlen=200, padding='post', truncating='post')"
   ]
  },
  {
   "cell_type": "code",
   "execution_count": 19,
   "id": "bde4d23c-f47e-4a97-9ddf-d902c481823b",
   "metadata": {},
   "outputs": [
    {
     "name": "stdout",
     "output_type": "stream",
     "text": [
      "\u001b[1m1/1\u001b[0m \u001b[32m━━━━━━━━━━━━━━━━━━━━\u001b[0m\u001b[37m\u001b[0m \u001b[1m0s\u001b[0m 316ms/step\n",
      "sport\n"
     ]
    }
   ],
   "source": [
    "pred = model.predict(news_padded)\n",
    "print(idx_to_label[np.argmax(pred[0])])"
   ]
  },
  {
   "cell_type": "code",
   "execution_count": null,
   "id": "9ff765bf-4c0d-415c-b4d6-4cedbce2a63e",
   "metadata": {},
   "outputs": [],
   "source": []
  }
 ],
 "metadata": {
  "kernelspec": {
   "display_name": "Python 3 (ipykernel)",
   "language": "python",
   "name": "python3"
  },
  "language_info": {
   "codemirror_mode": {
    "name": "ipython",
    "version": 3
   },
   "file_extension": ".py",
   "mimetype": "text/x-python",
   "name": "python",
   "nbconvert_exporter": "python",
   "pygments_lexer": "ipython3",
   "version": "3.11.7"
  }
 },
 "nbformat": 4,
 "nbformat_minor": 5
}
