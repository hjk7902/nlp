{
 "cells": [
  {
   "cell_type": "markdown",
   "id": "810b24ba-583e-4809-9c95-ab6dbca3d534",
   "metadata": {},
   "source": [
    "# 로이터 기사 데이터셋을 불러와 분류"
   ]
  },
  {
   "cell_type": "code",
   "execution_count": 1,
   "id": "07a2f6c0-bb74-43bf-9ee2-20af46aa2fb0",
   "metadata": {},
   "outputs": [],
   "source": [
    "NUM_WORDS = 2500"
   ]
  },
  {
   "cell_type": "code",
   "execution_count": 2,
   "id": "f1212eaa-db9a-4684-b5df-8656e258fead",
   "metadata": {},
   "outputs": [
    {
     "name": "stdout",
     "output_type": "stream",
     "text": [
      "(8982,) (8982,) (2246,) (2246,)\n"
     ]
    }
   ],
   "source": [
    "# 데이터셋 불러오기\n",
    "from tensorflow.keras.datasets import reuters\n",
    "(X_train, y_train), (X_test, y_test) = reuters.load_data(num_words=NUM_WORDS)\n",
    "print(X_train.shape, y_train.shape, X_test.shape, y_test.shape)"
   ]
  },
  {
   "cell_type": "code",
   "execution_count": 3,
   "id": "1268ddb8-55f1-404d-837e-2deca0b42d62",
   "metadata": {},
   "outputs": [
    {
     "name": "stdout",
     "output_type": "stream",
     "text": [
      "46 ('cocoa', 'grain', 'veg-oil', 'earn', 'acq', 'wheat', 'copper', 'housing', 'money-supply', 'coffee', 'sugar', 'trade', 'reserves', 'ship', 'cotton', 'carcass', 'crude', 'nat-gas', 'cpi', 'money-fx', 'interest', 'gnp', 'meal-feed', 'alum', 'oilseed', 'gold', 'tin', 'strategic-metal', 'livestock', 'retail', 'ipi', 'iron-steel', 'rubber', 'heat', 'jobs', 'lei', 'bop', 'zinc', 'orange', 'pet-chem', 'dlr', 'gas', 'silver', 'wpi', 'hog', 'lead')\n"
     ]
    }
   ],
   "source": [
    "# 데이터 라벨 확인하기\n",
    "labels = reuters.get_label_names()\n",
    "print(len(labels), labels)"
   ]
  },
  {
   "cell_type": "code",
   "execution_count": 4,
   "id": "d77d0cc1-e991-4f19-b033-f80b5a766076",
   "metadata": {},
   "outputs": [
    {
     "name": "stdout",
     "output_type": "stream",
     "text": [
      "0 cocoa 55\n",
      "1 grain 432\n",
      "2 veg-oil 74\n",
      "3 earn 3159\n",
      "4 acq 1949\n",
      "5 wheat 17\n",
      "6 copper 48\n",
      "7 housing 16\n",
      "8 money-supply 139\n",
      "9 coffee 101\n",
      "10 sugar 124\n",
      "11 trade 390\n",
      "12 reserves 49\n",
      "13 ship 172\n",
      "14 cotton 26\n",
      "15 carcass 20\n",
      "16 crude 444\n",
      "17 nat-gas 39\n",
      "18 cpi 66\n",
      "19 money-fx 549\n",
      "20 interest 269\n",
      "21 gnp 100\n",
      "22 meal-feed 15\n",
      "23 alum 41\n",
      "24 oilseed 62\n",
      "25 gold 92\n",
      "26 tin 24\n",
      "27 strategic-metal 15\n",
      "28 livestock 48\n",
      "29 retail 19\n",
      "30 ipi 45\n",
      "31 iron-steel 39\n",
      "32 rubber 32\n",
      "33 heat 11\n",
      "34 jobs 50\n",
      "35 lei 10\n",
      "36 bop 49\n",
      "37 zinc 19\n",
      "38 orange 19\n",
      "39 pet-chem 24\n",
      "40 dlr 36\n",
      "41 gas 30\n",
      "42 silver 13\n",
      "43 wpi 21\n",
      "44 hog 12\n",
      "45 lead 18\n"
     ]
    }
   ],
   "source": [
    "# 데이터 라벨 확인하기\n",
    "import numpy as np\n",
    "index, counts = np.unique(y_train, return_counts=True)\n",
    "for i in range(len(labels)):\n",
    "    print(i, labels[i], counts[i])"
   ]
  },
  {
   "cell_type": "code",
   "execution_count": 5,
   "id": "d47cdb69-0db2-4de7-86ff-f9f7cf6b0d77",
   "metadata": {},
   "outputs": [
    {
     "name": "stdout",
     "output_type": "stream",
     "text": [
      "Model: \"sequential\"\n",
      "_________________________________________________________________\n",
      " Layer (type)                Output Shape              Param #   \n",
      "=================================================================\n",
      " conv2d (Conv2D)             (None, 48, 48, 32)        320       \n",
      "                                                                 \n",
      " max_pooling2d (MaxPooling2  (None, 24, 24, 32)        0         \n",
      " D)                                                              \n",
      "                                                                 \n",
      " conv2d_1 (Conv2D)           (None, 22, 22, 64)        18496     \n",
      "                                                                 \n",
      " max_pooling2d_1 (MaxPoolin  (None, 11, 11, 64)        0         \n",
      " g2D)                                                            \n",
      "                                                                 \n",
      " flatten (Flatten)           (None, 7744)              0         \n",
      "                                                                 \n",
      " dense (Dense)               (None, 512)               3965440   \n",
      "                                                                 \n",
      " dropout (Dropout)           (None, 512)               0         \n",
      "                                                                 \n",
      " dense_1 (Dense)             (None, 46)                23598     \n",
      "                                                                 \n",
      "=================================================================\n",
      "Total params: 4007854 (15.29 MB)\n",
      "Trainable params: 4007854 (15.29 MB)\n",
      "Non-trainable params: 0 (0.00 Byte)\n",
      "_________________________________________________________________\n"
     ]
    }
   ],
   "source": [
    "# DNN 모델 구현하기\n",
    "# Conv2D는 모델을 개선할 목적으로 추가한 것이 아닙니다.\n",
    "# 인공신경망의 기본 이론을 알고 있으면 어떤 모델을 사용하더라도\n",
    "# 입력과 출력의 shape만 맞춰주면 학습은 된다는 것을 보여주기 위함입니다.\n",
    "from tensorflow.keras.models import Sequential\n",
    "from tensorflow.keras.layers import Dense, Dropout, Conv2D, MaxPooling2D, Flatten\n",
    "\n",
    "model = Sequential()\n",
    "model.add(Conv2D(32, (3,3), input_shape=(50,50,1), activation='relu'))\n",
    "model.add(MaxPooling2D())\n",
    "model.add(Conv2D(64, (3,3), activation='relu'))\n",
    "model.add(MaxPooling2D())\n",
    "model.add(Flatten())\n",
    "model.add(Dense(512, activation='relu'))\n",
    "model.add(Dropout(0.5))\n",
    "#  model.add(Dense(256, activation='relu'))\n",
    "model.add(Dense(46, activation='softmax'))\n",
    "model.summary()"
   ]
  },
  {
   "cell_type": "code",
   "execution_count": 6,
   "id": "81affa52-08af-4320-a105-f70764a25586",
   "metadata": {},
   "outputs": [],
   "source": [
    "model.compile(loss=\"sparse_categorical_crossentropy\", optimizer=\"adam\", metrics=[\"accuracy\"])"
   ]
  },
  {
   "cell_type": "code",
   "execution_count": 7,
   "id": "cf358f60-d9d7-4ba3-ba99-89f8b68b0b27",
   "metadata": {},
   "outputs": [],
   "source": [
    "# # 입력의 길이를 일정하게\n",
    "# from tensorflow.keras.preprocessing.text import Tokenizer\n",
    "# tok = Tokenizer(num_words=NUM_WORDS)\n",
    "# X_train_pad = tok.sequences_to_matrix(X_train, mode='count')\n",
    "# X_test_pad = tok.sequences_to_matrix(X_test, mode='count')"
   ]
  },
  {
   "cell_type": "code",
   "execution_count": 8,
   "id": "1315658c-47b8-4020-abc9-87d7b1516a52",
   "metadata": {},
   "outputs": [],
   "source": [
    "# 입력의 길이를 일정하게\n",
    "from tensorflow.keras.preprocessing.sequence import pad_sequences\n",
    "X_train_pad = pad_sequences(X_train, maxlen=NUM_WORDS, truncating='post', padding='post')\n",
    "X_test_pad = pad_sequences(X_test, maxlen=NUM_WORDS, truncating='post', padding='post')"
   ]
  },
  {
   "cell_type": "code",
   "execution_count": 9,
   "id": "d9344599-aa54-40f8-80af-81e902745e4b",
   "metadata": {},
   "outputs": [
    {
     "data": {
      "text/plain": [
       "(numpy.ndarray, (8982, 2500))"
      ]
     },
     "execution_count": 9,
     "metadata": {},
     "output_type": "execute_result"
    }
   ],
   "source": [
    "type(X_train_pad), X_train_pad.shape"
   ]
  },
  {
   "cell_type": "code",
   "execution_count": 10,
   "id": "e6c3d261-ad6e-4dca-b7ad-316a3b30c9de",
   "metadata": {},
   "outputs": [],
   "source": [
    "X_train_2 = X_train_pad.reshape(-1, 50, 50, 1)"
   ]
  },
  {
   "cell_type": "code",
   "execution_count": 11,
   "id": "0f207be0-908f-444d-af36-df5bffd4b8a1",
   "metadata": {
    "scrolled": true
   },
   "outputs": [
    {
     "name": "stdout",
     "output_type": "stream",
     "text": [
      "Epoch 1/20\n",
      "141/141 [==============================] - 7s 47ms/step - loss: 6.7727 - accuracy: 0.3170\n",
      "Epoch 2/20\n",
      "141/141 [==============================] - 7s 53ms/step - loss: 2.3309 - accuracy: 0.3780\n",
      "Epoch 3/20\n",
      "141/141 [==============================] - 7s 53ms/step - loss: 2.2295 - accuracy: 0.4020\n",
      "Epoch 4/20\n",
      "141/141 [==============================] - 7s 53ms/step - loss: 2.1001 - accuracy: 0.4276\n",
      "Epoch 5/20\n",
      "141/141 [==============================] - 7s 52ms/step - loss: 1.9883 - accuracy: 0.4472\n",
      "Epoch 6/20\n",
      "141/141 [==============================] - 7s 53ms/step - loss: 1.8695 - accuracy: 0.4792\n",
      "Epoch 7/20\n",
      "141/141 [==============================] - 7s 53ms/step - loss: 1.7381 - accuracy: 0.5100\n",
      "Epoch 8/20\n",
      "141/141 [==============================] - 7s 52ms/step - loss: 1.6283 - accuracy: 0.5330\n",
      "Epoch 9/20\n",
      "141/141 [==============================] - 8s 54ms/step - loss: 1.5205 - accuracy: 0.5599\n",
      "Epoch 10/20\n",
      "141/141 [==============================] - 7s 53ms/step - loss: 1.4351 - accuracy: 0.5858\n",
      "Epoch 11/20\n",
      "141/141 [==============================] - 7s 52ms/step - loss: 1.3364 - accuracy: 0.6101\n",
      "Epoch 12/20\n",
      "141/141 [==============================] - 7s 53ms/step - loss: 1.2527 - accuracy: 0.6307\n",
      "Epoch 13/20\n",
      "141/141 [==============================] - 7s 53ms/step - loss: 1.1654 - accuracy: 0.6615\n",
      "Epoch 14/20\n",
      "141/141 [==============================] - 7s 52ms/step - loss: 1.0929 - accuracy: 0.6750\n",
      "Epoch 15/20\n",
      "141/141 [==============================] - 7s 53ms/step - loss: 1.0219 - accuracy: 0.6981\n",
      "Epoch 16/20\n",
      "141/141 [==============================] - 7s 53ms/step - loss: 0.9781 - accuracy: 0.7104\n",
      "Epoch 17/20\n",
      "141/141 [==============================] - 7s 53ms/step - loss: 0.9478 - accuracy: 0.7238\n",
      "Epoch 18/20\n",
      "141/141 [==============================] - 7s 53ms/step - loss: 0.8767 - accuracy: 0.7422\n",
      "Epoch 19/20\n",
      "141/141 [==============================] - 8s 54ms/step - loss: 0.8343 - accuracy: 0.7556\n",
      "Epoch 20/20\n",
      "141/141 [==============================] - 8s 54ms/step - loss: 0.7901 - accuracy: 0.7733\n"
     ]
    },
    {
     "data": {
      "text/plain": [
       "<keras.src.callbacks.History at 0x13a16b98e90>"
      ]
     },
     "execution_count": 11,
     "metadata": {},
     "output_type": "execute_result"
    }
   ],
   "source": [
    "# 모델 학습\n",
    "model.fit(X_train_2, y_train, epochs=20, batch_size=64)"
   ]
  },
  {
   "cell_type": "code",
   "execution_count": 12,
   "id": "a225892e-7ff4-42ff-a29b-3bd5711cf9cd",
   "metadata": {},
   "outputs": [
    {
     "ename": "NameError",
     "evalue": "name 'X_test_tok' is not defined",
     "output_type": "error",
     "traceback": [
      "\u001b[1;31m---------------------------------------------------------------------------\u001b[0m",
      "\u001b[1;31mNameError\u001b[0m                                 Traceback (most recent call last)",
      "Cell \u001b[1;32mIn[12], line 2\u001b[0m\n\u001b[0;32m      1\u001b[0m \u001b[38;5;66;03m# 모델 평가\u001b[39;00m\n\u001b[1;32m----> 2\u001b[0m X_test_2 \u001b[38;5;241m=\u001b[39m \u001b[43mX_test_tok\u001b[49m\u001b[38;5;241m.\u001b[39mreshape(\u001b[38;5;241m-\u001b[39m\u001b[38;5;241m1\u001b[39m, \u001b[38;5;241m50\u001b[39m, \u001b[38;5;241m50\u001b[39m, \u001b[38;5;241m1\u001b[39m)\n\u001b[0;32m      3\u001b[0m model\u001b[38;5;241m.\u001b[39mevaluate(X_test_2, y_test)\n",
      "\u001b[1;31mNameError\u001b[0m: name 'X_test_tok' is not defined"
     ]
    }
   ],
   "source": [
    "# 모델 평가\n",
    "X_test_2 = X_test_tok.reshape(-1, 50, 50, 1)\n",
    "model.evaluate(X_test_2, y_test)"
   ]
  },
  {
   "cell_type": "code",
   "execution_count": null,
   "id": "abc2db44-96a5-483b-81da-01dc21881ee6",
   "metadata": {},
   "outputs": [],
   "source": [
    "# 샘플 데이터를 이용한 예측\n",
    "sample_no = 333\n",
    "# X_train_pad[sample_no].reshape(-1, NUM_WORDS).shape\n",
    "sample = X_train_pad[sample_no].reshape(-1, 50, 50, 1)\n",
    "pred = model.predict(sample)\n",
    "y_pred = np.argmax(pred, axis=1)\n",
    "print(y_test[sample_no], y_pred, labels[y_pred[0]])"
   ]
  },
  {
   "cell_type": "code",
   "execution_count": null,
   "id": "a162aa3f-0eda-44a5-b4ab-630622d2a6ed",
   "metadata": {},
   "outputs": [],
   "source": []
  }
 ],
 "metadata": {
  "kernelspec": {
   "display_name": "tf2.14",
   "language": "python",
   "name": "tf2.14"
  },
  "language_info": {
   "codemirror_mode": {
    "name": "ipython",
    "version": 3
   },
   "file_extension": ".py",
   "mimetype": "text/x-python",
   "name": "python",
   "nbconvert_exporter": "python",
   "pygments_lexer": "ipython3",
   "version": "3.11.9"
  }
 },
 "nbformat": 4,
 "nbformat_minor": 5
}
