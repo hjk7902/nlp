{
 "cells": [
  {
   "cell_type": "markdown",
   "id": "810b24ba-583e-4809-9c95-ab6dbca3d534",
   "metadata": {},
   "source": [
    "# 로이터 기사 데이터셋을 불러와 분류"
   ]
  },
  {
   "cell_type": "code",
   "execution_count": 1,
   "id": "07a2f6c0-bb74-43bf-9ee2-20af46aa2fb0",
   "metadata": {},
   "outputs": [],
   "source": [
    "NUM_WORDS = 2500"
   ]
  },
  {
   "cell_type": "code",
   "execution_count": 2,
   "id": "f1212eaa-db9a-4684-b5df-8656e258fead",
   "metadata": {},
   "outputs": [
    {
     "name": "stdout",
     "output_type": "stream",
     "text": [
      "(8982,) (8982,) (2246,) (2246,)\n"
     ]
    }
   ],
   "source": [
    "# 데이터셋 불러오기\n",
    "from tensorflow.keras.datasets import reuters\n",
    "(X_train, y_train), (X_test, y_test) = reuters.load_data(num_words=NUM_WORDS)\n",
    "print(X_train.shape, y_train.shape, X_test.shape, y_test.shape)"
   ]
  },
  {
   "cell_type": "code",
   "execution_count": 3,
   "id": "1268ddb8-55f1-404d-837e-2deca0b42d62",
   "metadata": {},
   "outputs": [
    {
     "name": "stdout",
     "output_type": "stream",
     "text": [
      "46 ('cocoa', 'grain', 'veg-oil', 'earn', 'acq', 'wheat', 'copper', 'housing', 'money-supply', 'coffee', 'sugar', 'trade', 'reserves', 'ship', 'cotton', 'carcass', 'crude', 'nat-gas', 'cpi', 'money-fx', 'interest', 'gnp', 'meal-feed', 'alum', 'oilseed', 'gold', 'tin', 'strategic-metal', 'livestock', 'retail', 'ipi', 'iron-steel', 'rubber', 'heat', 'jobs', 'lei', 'bop', 'zinc', 'orange', 'pet-chem', 'dlr', 'gas', 'silver', 'wpi', 'hog', 'lead')\n"
     ]
    }
   ],
   "source": [
    "# 데이터 라벨 확인하기\n",
    "labels = reuters.get_label_names()\n",
    "print(len(labels), labels)"
   ]
  },
  {
   "cell_type": "code",
   "execution_count": 4,
   "id": "d77d0cc1-e991-4f19-b033-f80b5a766076",
   "metadata": {},
   "outputs": [
    {
     "name": "stdout",
     "output_type": "stream",
     "text": [
      "0 cocoa 55\n",
      "1 grain 432\n",
      "2 veg-oil 74\n",
      "3 earn 3159\n",
      "4 acq 1949\n",
      "5 wheat 17\n",
      "6 copper 48\n",
      "7 housing 16\n",
      "8 money-supply 139\n",
      "9 coffee 101\n",
      "10 sugar 124\n",
      "11 trade 390\n",
      "12 reserves 49\n",
      "13 ship 172\n",
      "14 cotton 26\n",
      "15 carcass 20\n",
      "16 crude 444\n",
      "17 nat-gas 39\n",
      "18 cpi 66\n",
      "19 money-fx 549\n",
      "20 interest 269\n",
      "21 gnp 100\n",
      "22 meal-feed 15\n",
      "23 alum 41\n",
      "24 oilseed 62\n",
      "25 gold 92\n",
      "26 tin 24\n",
      "27 strategic-metal 15\n",
      "28 livestock 48\n",
      "29 retail 19\n",
      "30 ipi 45\n",
      "31 iron-steel 39\n",
      "32 rubber 32\n",
      "33 heat 11\n",
      "34 jobs 50\n",
      "35 lei 10\n",
      "36 bop 49\n",
      "37 zinc 19\n",
      "38 orange 19\n",
      "39 pet-chem 24\n",
      "40 dlr 36\n",
      "41 gas 30\n",
      "42 silver 13\n",
      "43 wpi 21\n",
      "44 hog 12\n",
      "45 lead 18\n"
     ]
    }
   ],
   "source": [
    "# 데이터 라벨 확인하기\n",
    "import numpy as np\n",
    "index, counts = np.unique(y_train, return_counts=True)\n",
    "for i in range(len(labels)):\n",
    "    print(i, labels[i], counts[i])"
   ]
  },
  {
   "cell_type": "code",
   "execution_count": 5,
   "id": "7010219b-3235-4ce3-bf3e-fc47faf73df0",
   "metadata": {},
   "outputs": [
    {
     "name": "stdout",
     "output_type": "stream",
     "text": [
      "Model: \"sequential\"\n",
      "_________________________________________________________________\n",
      " Layer (type)                Output Shape              Param #   \n",
      "=================================================================\n",
      " dense (Dense)               (None, 512)               1280512   \n",
      "                                                                 \n",
      " dropout (Dropout)           (None, 512)               0         \n",
      "                                                                 \n",
      " dense_1 (Dense)             (None, 46)                23598     \n",
      "                                                                 \n",
      "=================================================================\n",
      "Total params: 1304110 (4.97 MB)\n",
      "Trainable params: 1304110 (4.97 MB)\n",
      "Non-trainable params: 0 (0.00 Byte)\n",
      "_________________________________________________________________\n"
     ]
    }
   ],
   "source": [
    "# DNN 모델 구현하기\n",
    "from tensorflow.keras import Sequential, layers\n",
    "\n",
    "model = Sequential([\n",
    "    layers.Input(shape=(2500,)),\n",
    "    layers.Dense(512, activation='relu'),\n",
    "    layers.Dropout(0,5),\n",
    "    layers.Dense(46, activation='softmax')\n",
    "])\n",
    "model.summary()"
   ]
  },
  {
   "cell_type": "code",
   "execution_count": 6,
   "id": "8be2752f-6b2c-4296-9977-4e0824e7e3bb",
   "metadata": {},
   "outputs": [],
   "source": [
    "model.compile(loss=\"sparse_categorical_crossentropy\", optimizer=\"adam\", metrics=[\"accuracy\"])"
   ]
  },
  {
   "cell_type": "code",
   "execution_count": 7,
   "id": "5b1b8adc-3bf9-4965-97ca-7a9dc7333429",
   "metadata": {},
   "outputs": [],
   "source": [
    "# # 입력의 길이를 일정하게 - Tokenizer의 sequencts_to_matrix 사용\n",
    "from tensorflow.keras.preprocessing.text import Tokenizer\n",
    "tok = Tokenizer(num_words=NUM_WORDS)\n",
    "X_train_pad = tok.sequences_to_matrix(X_train, mode='count')\n",
    "X_test_pad = tok.sequences_to_matrix(X_test, mode='count')"
   ]
  },
  {
   "cell_type": "code",
   "execution_count": 8,
   "id": "3aac321c-52b3-4ffd-85d4-d5b330811ed0",
   "metadata": {},
   "outputs": [],
   "source": [
    "# # 입력의 길이를 일정하게 - pad_sequences 사용\n",
    "# from tensorflow.keras.preprocessing.sequence import pad_sequences\n",
    "# X_train_pad = pad_sequences(X_train, maxlen=NUM_WORDS)\n",
    "# X_test_pad = pad_sequences(X_test, maxlen=NUM_WORDS)"
   ]
  },
  {
   "cell_type": "code",
   "execution_count": 9,
   "id": "e99a4d83-3fab-49c4-94d9-5df48477d5fa",
   "metadata": {},
   "outputs": [],
   "source": [
    "X_train_pad = X_train_pad.reshape(-1, 2500)\n",
    "X_test_pad = X_test_pad.reshape(-1, 2500)"
   ]
  },
  {
   "cell_type": "code",
   "execution_count": 10,
   "id": "66bd0755-d1d3-459d-9417-4e53e7804eda",
   "metadata": {},
   "outputs": [
    {
     "name": "stdout",
     "output_type": "stream",
     "text": [
      "Epoch 1/20\n",
      "141/141 [==============================] - 4s 22ms/step - loss: 1.3414 - accuracy: 0.7350\n",
      "Epoch 2/20\n",
      "141/141 [==============================] - 3s 21ms/step - loss: 0.5731 - accuracy: 0.8774\n",
      "Epoch 3/20\n",
      "141/141 [==============================] - 3s 21ms/step - loss: 0.3445 - accuracy: 0.9208\n",
      "Epoch 4/20\n",
      "141/141 [==============================] - 3s 21ms/step - loss: 0.2763 - accuracy: 0.9363\n",
      "Epoch 5/20\n",
      "141/141 [==============================] - 3s 22ms/step - loss: 0.2402 - accuracy: 0.9424\n",
      "Epoch 6/20\n",
      "141/141 [==============================] - 3s 22ms/step - loss: 0.2093 - accuracy: 0.9460\n",
      "Epoch 7/20\n",
      "141/141 [==============================] - 3s 22ms/step - loss: 0.1858 - accuracy: 0.9496\n",
      "Epoch 8/20\n",
      "141/141 [==============================] - 3s 22ms/step - loss: 0.1777 - accuracy: 0.9507\n",
      "Epoch 9/20\n",
      "141/141 [==============================] - 3s 21ms/step - loss: 0.1698 - accuracy: 0.9526\n",
      "Epoch 10/20\n",
      "141/141 [==============================] - 3s 22ms/step - loss: 0.1628 - accuracy: 0.9522\n",
      "Epoch 11/20\n",
      "141/141 [==============================] - 3s 22ms/step - loss: 0.1510 - accuracy: 0.9520\n",
      "Epoch 12/20\n",
      "141/141 [==============================] - 3s 21ms/step - loss: 0.1472 - accuracy: 0.9523\n",
      "Epoch 13/20\n",
      "141/141 [==============================] - 3s 22ms/step - loss: 0.1402 - accuracy: 0.9517\n",
      "Epoch 14/20\n",
      "141/141 [==============================] - 3s 21ms/step - loss: 0.1336 - accuracy: 0.9538\n",
      "Epoch 15/20\n",
      "141/141 [==============================] - 3s 21ms/step - loss: 0.1285 - accuracy: 0.9521\n",
      "Epoch 16/20\n",
      "141/141 [==============================] - 3s 22ms/step - loss: 0.1210 - accuracy: 0.9537\n",
      "Epoch 17/20\n",
      "141/141 [==============================] - 3s 22ms/step - loss: 0.1214 - accuracy: 0.9521\n",
      "Epoch 18/20\n",
      "141/141 [==============================] - 3s 21ms/step - loss: 0.1190 - accuracy: 0.9540\n",
      "Epoch 19/20\n",
      "141/141 [==============================] - 3s 22ms/step - loss: 0.1132 - accuracy: 0.9510\n",
      "Epoch 20/20\n",
      "141/141 [==============================] - 3s 21ms/step - loss: 0.1152 - accuracy: 0.9512\n"
     ]
    },
    {
     "data": {
      "text/plain": [
       "<keras.src.callbacks.History at 0x222313f76d0>"
      ]
     },
     "execution_count": 10,
     "metadata": {},
     "output_type": "execute_result"
    }
   ],
   "source": [
    "model.fit(X_train_pad, y_train, epochs=20, batch_size=64)"
   ]
  },
  {
   "cell_type": "code",
   "execution_count": 11,
   "id": "2cc5a027-61fc-47d9-b0ce-8a8e0e6ec603",
   "metadata": {},
   "outputs": [
    {
     "name": "stdout",
     "output_type": "stream",
     "text": [
      "71/71 [==============================] - 1s 6ms/step - loss: 1.1224 - accuracy: 0.7952\n"
     ]
    },
    {
     "data": {
      "text/plain": [
       "[1.1223628520965576, 0.7951914668083191]"
      ]
     },
     "execution_count": 11,
     "metadata": {},
     "output_type": "execute_result"
    }
   ],
   "source": [
    "model.evaluate(X_test_pad, y_test)"
   ]
  },
  {
   "cell_type": "code",
   "execution_count": 12,
   "id": "dce3e83e-7afd-4c98-877f-068796dcc01a",
   "metadata": {},
   "outputs": [
    {
     "name": "stdout",
     "output_type": "stream",
     "text": [
      "1/1 [==============================] - 0s 92ms/step\n",
      "[3]\n"
     ]
    }
   ],
   "source": [
    "sample = X_test_pad[333, :].reshape(-1, 2500)\n",
    "\n",
    "pred = model.predict(sample)\n",
    "# print(pred)\n",
    "import numpy as np\n",
    "print(np.argmax(pred, axis=1))"
   ]
  },
  {
   "cell_type": "markdown",
   "id": "5881e469-a09a-4e85-adea-ed74ca9d6ec1",
   "metadata": {},
   "source": [
    "## CNN으로 구현해보기"
   ]
  },
  {
   "cell_type": "code",
   "execution_count": 13,
   "id": "d47cdb69-0db2-4de7-86ff-f9f7cf6b0d77",
   "metadata": {},
   "outputs": [
    {
     "name": "stdout",
     "output_type": "stream",
     "text": [
      "Model: \"sequential_1\"\n",
      "_________________________________________________________________\n",
      " Layer (type)                Output Shape              Param #   \n",
      "=================================================================\n",
      " conv2d (Conv2D)             (None, 48, 48, 32)        320       \n",
      "                                                                 \n",
      " max_pooling2d (MaxPooling2  (None, 24, 24, 32)        0         \n",
      " D)                                                              \n",
      "                                                                 \n",
      " conv2d_1 (Conv2D)           (None, 22, 22, 64)        18496     \n",
      "                                                                 \n",
      " max_pooling2d_1 (MaxPoolin  (None, 11, 11, 64)        0         \n",
      " g2D)                                                            \n",
      "                                                                 \n",
      " flatten (Flatten)           (None, 7744)              0         \n",
      "                                                                 \n",
      " dense_2 (Dense)             (None, 512)               3965440   \n",
      "                                                                 \n",
      " dropout_1 (Dropout)         (None, 512)               0         \n",
      "                                                                 \n",
      " dense_3 (Dense)             (None, 46)                23598     \n",
      "                                                                 \n",
      "=================================================================\n",
      "Total params: 4007854 (15.29 MB)\n",
      "Trainable params: 4007854 (15.29 MB)\n",
      "Non-trainable params: 0 (0.00 Byte)\n",
      "_________________________________________________________________\n"
     ]
    }
   ],
   "source": [
    "# Conv2D는 모델을 개선할 목적으로 추가한 것이 아닙니다.\n",
    "# 인공신경망의 기본 이론을 알고 있으면 어떤 모델을 사용하더라도\n",
    "# 입력과 출력의 shape만 맞춰주면 학습은 된다는 것을 보여주기 위함입니다.\n",
    "from tensorflow.keras.models import Sequential\n",
    "from tensorflow.keras.layers import Dense, Dropout, Conv2D, MaxPooling2D, Flatten\n",
    "\n",
    "model = Sequential()\n",
    "model.add(Conv2D(32, (3,3), input_shape=(50,50,1), activation='relu'))\n",
    "model.add(MaxPooling2D())\n",
    "model.add(Conv2D(64, (3,3), activation='relu'))\n",
    "model.add(MaxPooling2D())\n",
    "model.add(Flatten())\n",
    "model.add(Dense(512, activation='relu'))\n",
    "model.add(Dropout(0.5))\n",
    "#  model.add(Dense(256, activation='relu'))\n",
    "model.add(Dense(46, activation='softmax'))\n",
    "model.summary()"
   ]
  },
  {
   "cell_type": "code",
   "execution_count": 14,
   "id": "81affa52-08af-4320-a105-f70764a25586",
   "metadata": {},
   "outputs": [],
   "source": [
    "model.compile(loss=\"sparse_categorical_crossentropy\", optimizer=\"adam\", metrics=[\"accuracy\"])"
   ]
  },
  {
   "cell_type": "code",
   "execution_count": 15,
   "id": "73fcf88a-d084-46ac-b097-6b4d8f2e7d80",
   "metadata": {},
   "outputs": [],
   "source": [
    "# # 입력의 길이를 일정하게 - Tokenizer의 sequencts_to_matrix 사용\n",
    "from tensorflow.keras.preprocessing.text import Tokenizer\n",
    "tok = Tokenizer(num_words=NUM_WORDS)\n",
    "X_train_pad = tok.sequences_to_matrix(X_train, mode='count')\n",
    "X_test_pad = tok.sequences_to_matrix(X_test, mode='count')"
   ]
  },
  {
   "cell_type": "code",
   "execution_count": 16,
   "id": "1315658c-47b8-4020-abc9-87d7b1516a52",
   "metadata": {},
   "outputs": [],
   "source": [
    "# # 입력의 길이를 일정하게\n",
    "# from tensorflow.keras.preprocessing.sequence import pad_sequences\n",
    "# X_train_pad = pad_sequences(X_train, maxlen=NUM_WORDS)\n",
    "# X_test_pad = pad_sequences(X_test, maxlen=NUM_WORDS)"
   ]
  },
  {
   "cell_type": "code",
   "execution_count": 17,
   "id": "d9344599-aa54-40f8-80af-81e902745e4b",
   "metadata": {},
   "outputs": [
    {
     "data": {
      "text/plain": [
       "(numpy.ndarray, (8982, 2500))"
      ]
     },
     "execution_count": 17,
     "metadata": {},
     "output_type": "execute_result"
    }
   ],
   "source": [
    "type(X_train_pad), X_train_pad.shape"
   ]
  },
  {
   "cell_type": "code",
   "execution_count": 18,
   "id": "e6c3d261-ad6e-4dca-b7ad-316a3b30c9de",
   "metadata": {},
   "outputs": [],
   "source": [
    "X_train_pad = X_train_pad.reshape(-1, 50, 50, 1)"
   ]
  },
  {
   "cell_type": "code",
   "execution_count": 19,
   "id": "0f207be0-908f-444d-af36-df5bffd4b8a1",
   "metadata": {
    "scrolled": true
   },
   "outputs": [
    {
     "name": "stdout",
     "output_type": "stream",
     "text": [
      "Epoch 1/20\n",
      "141/141 [==============================] - 20s 138ms/step - loss: 1.8880 - accuracy: 0.5484\n",
      "Epoch 2/20\n",
      "141/141 [==============================] - 20s 139ms/step - loss: 1.0840 - accuracy: 0.7391\n",
      "Epoch 3/20\n",
      "141/141 [==============================] - 21s 146ms/step - loss: 0.7797 - accuracy: 0.8096\n",
      "Epoch 4/20\n",
      "141/141 [==============================] - 20s 144ms/step - loss: 0.5864 - accuracy: 0.8500\n",
      "Epoch 5/20\n",
      "141/141 [==============================] - 21s 150ms/step - loss: 0.4600 - accuracy: 0.8818\n",
      "Epoch 6/20\n",
      "141/141 [==============================] - 22s 156ms/step - loss: 0.3968 - accuracy: 0.8961\n",
      "Epoch 7/20\n",
      "141/141 [==============================] - 22s 153ms/step - loss: 0.3271 - accuracy: 0.9145\n",
      "Epoch 8/20\n",
      "141/141 [==============================] - 22s 155ms/step - loss: 0.3215 - accuracy: 0.9202\n",
      "Epoch 9/20\n",
      "141/141 [==============================] - 21s 147ms/step - loss: 0.2712 - accuracy: 0.9322\n",
      "Epoch 10/20\n",
      "141/141 [==============================] - 20s 145ms/step - loss: 0.2521 - accuracy: 0.9335\n",
      "Epoch 11/20\n",
      "141/141 [==============================] - 20s 144ms/step - loss: 0.2264 - accuracy: 0.9389\n",
      "Epoch 12/20\n",
      "141/141 [==============================] - 24s 172ms/step - loss: 0.2283 - accuracy: 0.9419\n",
      "Epoch 13/20\n",
      "141/141 [==============================] - 24s 170ms/step - loss: 0.2075 - accuracy: 0.9464\n",
      "Epoch 14/20\n",
      "141/141 [==============================] - 22s 157ms/step - loss: 0.1932 - accuracy: 0.9497\n",
      "Epoch 15/20\n",
      "141/141 [==============================] - 23s 162ms/step - loss: 0.1843 - accuracy: 0.9499\n",
      "Epoch 16/20\n",
      "141/141 [==============================] - 21s 149ms/step - loss: 0.1900 - accuracy: 0.9495\n",
      "Epoch 17/20\n",
      "141/141 [==============================] - 21s 148ms/step - loss: 0.1857 - accuracy: 0.9498\n",
      "Epoch 18/20\n",
      "141/141 [==============================] - 21s 150ms/step - loss: 0.1860 - accuracy: 0.9496\n",
      "Epoch 19/20\n",
      "141/141 [==============================] - 21s 151ms/step - loss: 0.1696 - accuracy: 0.9523\n",
      "Epoch 20/20\n",
      "141/141 [==============================] - 22s 154ms/step - loss: 0.1629 - accuracy: 0.9523\n"
     ]
    },
    {
     "data": {
      "text/plain": [
       "<keras.src.callbacks.History at 0x2222f581950>"
      ]
     },
     "execution_count": 19,
     "metadata": {},
     "output_type": "execute_result"
    }
   ],
   "source": [
    "# 모델 학습\n",
    "model.fit(X_train_pad, y_train, epochs=20, batch_size=64)"
   ]
  },
  {
   "cell_type": "code",
   "execution_count": 20,
   "id": "a225892e-7ff4-42ff-a29b-3bd5711cf9cd",
   "metadata": {},
   "outputs": [
    {
     "name": "stdout",
     "output_type": "stream",
     "text": [
      "71/71 [==============================] - 2s 21ms/step - loss: 1.2724 - accuracy: 0.7765\n"
     ]
    },
    {
     "data": {
      "text/plain": [
       "[1.2723637819290161, 0.7764915227890015]"
      ]
     },
     "execution_count": 20,
     "metadata": {},
     "output_type": "execute_result"
    }
   ],
   "source": [
    "# 모델 평가\n",
    "X_train_pad = X_test_pad.reshape(-1, 50, 50, 1)\n",
    "model.evaluate(X_train_pad, y_test)"
   ]
  },
  {
   "cell_type": "code",
   "execution_count": 21,
   "id": "abc2db44-96a5-483b-81da-01dc21881ee6",
   "metadata": {},
   "outputs": [
    {
     "name": "stdout",
     "output_type": "stream",
     "text": [
      "1/1 [==============================] - 0s 69ms/step\n",
      "3 [3] earn\n"
     ]
    }
   ],
   "source": [
    "# 샘플 데이터를 이용한 예측\n",
    "sample_no = 333\n",
    "# X_train_pad[sample_no].reshape(-1, NUM_WORDS).shape\n",
    "sample = X_train_pad[sample_no].reshape(-1, 50, 50, 1)\n",
    "pred = model.predict(sample)\n",
    "y_pred = np.argmax(pred, axis=1)\n",
    "print(y_test[sample_no], y_pred, labels[y_pred[0]])"
   ]
  },
  {
   "cell_type": "code",
   "execution_count": null,
   "id": "a162aa3f-0eda-44a5-b4ab-630622d2a6ed",
   "metadata": {},
   "outputs": [],
   "source": []
  }
 ],
 "metadata": {
  "kernelspec": {
   "display_name": "tf2.14",
   "language": "python",
   "name": "tf2.14"
  },
  "language_info": {
   "codemirror_mode": {
    "name": "ipython",
    "version": 3
   },
   "file_extension": ".py",
   "mimetype": "text/x-python",
   "name": "python",
   "nbconvert_exporter": "python",
   "pygments_lexer": "ipython3",
   "version": "3.11.9"
  }
 },
 "nbformat": 4,
 "nbformat_minor": 5
}
